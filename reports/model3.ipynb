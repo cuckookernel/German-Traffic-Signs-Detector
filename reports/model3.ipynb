{
 "cells": [
  {
   "cell_type": "markdown",
   "metadata": {},
   "source": [
    "## Report on Model3 \n",
    "\n",
    "This model implements the original LeNet architecture from the classic paper by Yann LeCun \n",
    "\n",
    "http://yann.lecun.com/exdb/publis/pdf/lecun-01a.pdf.\n",
    " \n",
    "The code is contained within `/tf_lenet.py`\n",
    "\n",
    "We tried to stay as close to the original as posible with two exceptions: \n",
    "\n",
    " 1.  As the images are RGB, there is the design choice of whether they should be:\n",
    "    1. converted to monochrome, essentially applying  `tf.reduce_mean` along the color-channels dimension \n",
    "    2. treated as RGB by setting the shape of the filters in the first convolutional layer to  [5,5,3,16] instead of the [5, 5, 1, 16] shape specified in the original paper.\n",
    "     We actually tried both posibilities and can easily switch between the two by means of the `drop_colors` hyper-parameter,\n",
    "     If set to 1, the images are converted to monochrome in the first layer, if set to 0 then the [5,5,3,16] filters are used.\n",
    "     See first few lines of `tf_lenet.layer_c1` for the gory details.\n",
    "     \n",
    "     \n",
    " 2. Due to the small number of images we had for training, it was necessary to do employ some regularization technique. We chose to do drop out on the first fully connected layer. The `dropout_rate` hyper-parameter controls what portion of conections are dropped. See `tf_lenet.fully_connected` for details.\n",
    " \n",
    " ## A Note about non-linearity function and the final layer\n",
    " \n",
    "Most recent implementations of the LeNet architecture out there are not really faithful to the original in at least two respects: \n",
    "\n",
    "  1. They use `relu` units after two introduce non-linearities after most layers instead of the $A \\cdot tanh$ function that LeCun used in his design. \n",
    "\n",
    "  2. They use a standard 'sigmoidal' fully connected layer for the final layer, instead of LeCun's proposed gaussian connections.  \n",
    "  \n",
    "  \n",
    "We have followed the original in both respects but also tried the more modern versions and have noted with some surprise that the original version works better, or at least is to find good hyper parameters for easier. We suspect this might be due to the limited number of training images used. \n",
    "     \n",
    "     \n",
    "## Fine tuning and accuracy\n",
    "\n",
    "After some (not very systematic) experimentation we determined that a decent choice for hyperparameters is: "
   ]
  },
  {
   "cell_type": "markdown",
   "metadata": {},
   "source": [
    "```\n",
    "{ \"model_name\" : \"model3\",\n",
    "  \"rescale_mode\" : \"\",\n",
    "  \"batch_size\" : 100,\n",
    "  \"drop_colors\" : 1,\n",
    "  \"learning_rate\" : 0.0005,\n",
    "  \"dropout_rate\" : 0.3,\n",
    "  \"epochs\" : 300 }\n",
    "  ```"
   ]
  },
  {
   "cell_type": "markdown",
   "metadata": {},
   "source": [
    "The accuracy obtained with this choice is roughly: **91%**, not great but a few points better than with logistic regression. "
   ]
  },
  {
   "cell_type": "code",
   "execution_count": 1,
   "metadata": {},
   "outputs": [
    {
     "name": "stderr",
     "output_type": "stream",
     "text": [
      "DEBUG:matplotlib.backends:backend module://ipykernel.pylab.backend_inline version unknown\n"
     ]
    }
   ],
   "source": [
    "import sys\n",
    "import os\n",
    "os.chdir('../') \n",
    "from train_test import run_test"
   ]
  },
  {
   "cell_type": "code",
   "execution_count": 2,
   "metadata": {},
   "outputs": [
    {
     "name": "stderr",
     "output_type": "stream",
     "text": [
      "Level 100:train_test:test_4d has shape = ((238, 32, 32, 3),)\n",
      "Level 99:train_utils:test_lenet : importing tensorflow\n",
      "Level 99:train_utils:Testing...\n",
      "\n",
      "INFO:tensorflow:Restoring parameters from models/model3/saved/\n"
     ]
    },
    {
     "name": "stdout",
     "output_type": "stream",
     "text": [
      "0.9117646898542132\n"
     ]
    }
   ],
   "source": [
    "run_test( \"model3\", \"images/test\")"
   ]
  }
 ],
 "metadata": {
  "kernelspec": {
   "display_name": "Python 3",
   "language": "python",
   "name": "python3"
  },
  "language_info": {
   "codemirror_mode": {
    "name": "ipython",
    "version": 3
   },
   "file_extension": ".py",
   "mimetype": "text/x-python",
   "name": "python",
   "nbconvert_exporter": "python",
   "pygments_lexer": "ipython3",
   "version": "3.5.5"
  }
 },
 "nbformat": 4,
 "nbformat_minor": 2
}
