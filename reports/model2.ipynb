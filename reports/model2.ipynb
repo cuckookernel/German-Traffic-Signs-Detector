{
 "cells": [
  {
   "cell_type": "markdown",
   "metadata": {},
   "source": [
    "## Report on model2\n",
    "\n",
    "This model is slighlightlty more interesting than model1, as its implementation involves\n",
    "\n",
    "  * The code for training and testing this model is contained in `/tf_log_reg.py`.\n",
    "\n",
    "  * The implementation is pretty strait-forward. We decided to just use **drop-out regularization** (and early stopping) to see how it would\n",
    "  perform. \n",
    "  \n",
    "  * The images are **converted to monochrome**  in the first layer, by taking the mean along the color-channels axis.\n",
    "\n",
    "  * For logistic regresion to work well it is good to subtract the mean of each image (computed along all axes).\n",
    "   We do this in a vectorized way for efficiency but not within the neural network, but in the run_one_epoch function.\n",
    "\n",
    "\n",
    " * The test-classification accuracy obtained was roughly **81%** which is worse than scikit-learn Logistic regression. It is likely that adding l2 regularization here, would help..."
   ]
  },
  {
   "cell_type": "code",
   "execution_count": 1,
   "metadata": {},
   "outputs": [
    {
     "name": "stderr",
     "output_type": "stream",
     "text": [
      "DEBUG:matplotlib.backends:backend module://ipykernel.pylab.backend_inline version unknown\n"
     ]
    }
   ],
   "source": [
    "import sys\n",
    "import os\n",
    "os.chdir('../') \n",
    "from train_test import run_test"
   ]
  },
  {
   "cell_type": "code",
   "execution_count": 3,
   "metadata": {},
   "outputs": [
    {
     "name": "stderr",
     "output_type": "stream",
     "text": [
      "Level 100:train_test:test_4d has shape = ((238, 32, 32, 3),)\n",
      "Level 99:train_utils:test_lenet : importing tensorflow\n",
      "Level 99:train_utils:Testing...\n",
      "\n",
      "INFO:tensorflow:Restoring parameters from models/model2/saved/\n"
     ]
    },
    {
     "name": "stdout",
     "output_type": "stream",
     "text": [
      "0.8067226785571635\n"
     ]
    }
   ],
   "source": [
    "run_test( \"model2\", \"images/test\")"
   ]
  }
 ],
 "metadata": {
  "kernelspec": {
   "display_name": "Python 3",
   "language": "python",
   "name": "python3"
  },
  "language_info": {
   "codemirror_mode": {
    "name": "ipython",
    "version": 3
   },
   "file_extension": ".py",
   "mimetype": "text/x-python",
   "name": "python",
   "nbconvert_exporter": "python",
   "pygments_lexer": "ipython3",
   "version": "3.5.5"
  }
 },
 "nbformat": 4,
 "nbformat_minor": 2
}
