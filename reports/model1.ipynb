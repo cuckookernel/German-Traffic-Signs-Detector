{
 "cells": [
  {
   "cell_type": "markdown",
   "metadata": {},
   "source": [
    "## Report on model1\n",
    "\n",
    "There isn't really much to say about this model. \n",
    "\n",
    "  * The code for training and testing this model is contained in `/skl_logistic.py`.\n",
    "\n",
    "  * We use `sklearn.linear_model.LogisticRegression` as the base classifier. \n",
    "\n",
    "  * Before feeding the images into this kind of model, they need to be _flattened_ \n",
    "\n",
    "  * For logistic regresion to work well it is good to subtract the mean of each image (computed along all axes).\n",
    "   We do this in a vectorized way for efficiency. \n",
    "\n",
    "  * As we have input vectors of dimension 1024 and an output probability vector of dimension 42, the number of parameters  is roughly 43.000 which is pretty high given the reduced number of images.  __Thus it is necessary to do some sort of regularization__\n",
    "\n",
    "  * We only tried **l2-regularization** (the default for this regressor) and fine-tuned the single hyper-parameter 'C'. \n",
    "\n",
    "  * After trying a few values for  `C` between 1.0 and 100.0, we determined that `C = 20.0` was a sweet-spot in terms of test classification accuracy. \n",
    "\n",
    " * The test-classification accuracy obtained was roughly 86%"
   ]
  },
  {
   "cell_type": "code",
   "execution_count": 7,
   "metadata": {},
   "outputs": [],
   "source": [
    "import sys\n",
    "import os\n",
    "os.chdir('../') \n",
    "from train_test import run_test"
   ]
  },
  {
   "cell_type": "code",
   "execution_count": 9,
   "metadata": {},
   "outputs": [
    {
     "name": "stderr",
     "output_type": "stream",
     "text": [
      "Level 100:train_test:test_4d has shape = ((238, 32, 32, 3),)\n",
      "Level 98:train_utils:models/model1/saved/model1.pkl\n",
      "Level 99:skl_logistic:LogisticRegression(C=20.0, class_weight=None, dual=False, fit_intercept=True,\n",
      "          intercept_scaling=1, max_iter=200, multi_class='ovr', n_jobs=1,\n",
      "          penalty='l2', random_state=None, solver='liblinear', tol=0.0001,\n",
      "          verbose=0, warm_start=False)\n"
     ]
    },
    {
     "name": "stdout",
     "output_type": "stream",
     "text": [
      "0.865546218487395\n"
     ]
    }
   ],
   "source": [
    "run_test( \"model1\", \"images/test\")"
   ]
  }
 ],
 "metadata": {
  "kernelspec": {
   "display_name": "Python 3",
   "language": "python",
   "name": "python3"
  },
  "language_info": {
   "codemirror_mode": {
    "name": "ipython",
    "version": 3
   },
   "file_extension": ".py",
   "mimetype": "text/x-python",
   "name": "python",
   "nbconvert_exporter": "python",
   "pygments_lexer": "ipython3",
   "version": "3.5.5"
  }
 },
 "nbformat": 4,
 "nbformat_minor": 2
}
